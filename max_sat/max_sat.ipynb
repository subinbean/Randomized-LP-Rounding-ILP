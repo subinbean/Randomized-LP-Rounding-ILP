{
 "metadata": {
  "language_info": {
   "codemirror_mode": {
    "name": "ipython",
    "version": 3
   },
   "file_extension": ".py",
   "mimetype": "text/x-python",
   "name": "python",
   "nbconvert_exporter": "python",
   "pygments_lexer": "ipython3",
   "version": "3.8.3-final"
  },
  "orig_nbformat": 2,
  "kernelspec": {
   "name": "python38364bit3082f8e86e6e4f878a5926e3aca349ae",
   "display_name": "Python 3.8.3 64-bit"
  }
 },
 "nbformat": 4,
 "nbformat_minor": 2,
 "cells": [
  {
   "source": [
    "# Max-SAT: LP Rounding versus CP-SAT"
   ],
   "cell_type": "markdown",
   "metadata": {}
  },
  {
   "cell_type": "code",
   "execution_count": 323,
   "metadata": {},
   "outputs": [],
   "source": [
    "# Optional[A] means either type A or None\n",
    "# Union[A, B] means either type A or type B\n",
    "from typing import Union, Optional, List, Tuple\n",
    "Lit = int\n",
    "Var = int\n",
    "Clause = List[Lit]\n",
    "CNF = List[Clause]\n",
    "# A (partial) assignment is an array storing True/False/None for each variable\n",
    "Assignment = List[Optional[bool]]"
   ]
  },
  {
   "cell_type": "code",
   "execution_count": 324,
   "metadata": {},
   "outputs": [],
   "source": [
    "from random import shuffle, randint\n",
    "import numpy as np\n",
    "\n",
    "# random k-CNFs with n variables and m clauses\n",
    "def F(k: int, n: int, m: int) -> CNF:\n",
    "    # Fill in here\n",
    "    vars = [i + 1 for i in range(n)]\n",
    "    cnf = []\n",
    "    for _ in range(m):\n",
    "        shuffle(vars)\n",
    "        # coin flip (-1 or 1)\n",
    "        flips = [randint(0, 1) * 2 - 1 for _ in range(k)]\n",
    "        cnf.append(list(np.multiply(vars[:k], flips)))\n",
    "    return cnf"
   ]
  },
  {
   "cell_type": "code",
   "execution_count": 325,
   "metadata": {},
   "outputs": [],
   "source": [
    "def count_sat(CNF, asses):\n",
    "    def check_lit(lit):\n",
    "        var = abs(lit)\n",
    "        sign = lit // var \n",
    "        return asses[var] == sign\n",
    "    def clause_sated(clause):\n",
    "        filtered = list(filter(check_lit, clause))\n",
    "        return len(filtered) > 0\n",
    "    sated = list(filter(clause_sated, CNF))\n",
    "    return len(sated)"
   ]
  },
  {
   "source": [
    "Helper stuff out of the way, we'll start off with the LP rounding solution"
   ],
   "cell_type": "markdown",
   "metadata": {}
  },
  {
   "cell_type": "code",
   "execution_count": 326,
   "metadata": {},
   "outputs": [],
   "source": [
    "# LP implementation\n",
    "from ortools.linear_solver import pywraplp\n",
    "\n",
    "def solveLP(CNF, k, n, m):\n",
    "    solver = pywraplp.Solver(\"lp\", pywraplp.Solver.GLOP_LINEAR_PROGRAMMING)\n",
    "    zs = [solver.NumVar(0, 1, f'z_{j}') for j in range(m)] # variable for if the j-th clause is satisfied\n",
    "    ys = [solver.NumVar(0, 1, f'y_{i}') for i in range(n+1)] # variable for if the i-th clause is set to True\n",
    "    # add constraints\n",
    "    for j in range(m):\n",
    "        clause = CNF[j]\n",
    "        # count number of negatives\n",
    "        neg_count = sum(1 for lit in clause if lit < 0)\n",
    "        constraint = solver.Constraint(-neg_count, solver.infinity()) # must be larger than z_j\n",
    "        constraint.SetCoefficient(zs[j], -1)\n",
    "        for lit in clause:\n",
    "            var = abs(lit)\n",
    "            sign = lit / var\n",
    "            constraint.SetCoefficient(ys[var], sign)\n",
    "    # maximize number of satisfied clauses\n",
    "    objective = solver.Objective()\n",
    "    for zj in zs:\n",
    "        objective.SetCoefficient(zj, 1)\n",
    "    objective.SetMaximization()\n",
    "    solver.Solve()\n",
    "    def get_sols(xs):\n",
    "        return list(map(lambda x : x.solution_value(), xs))\n",
    "    return (get_sols(ys), get_sols(zs))\n",
    "    return solver"
   ]
  },
  {
   "cell_type": "code",
   "execution_count": 327,
   "metadata": {},
   "outputs": [],
   "source": [
    "# now, we do the rounding\n",
    "from random import choices\n",
    "\n",
    "# Johnson's rounding scheme: set each var with probability 1/2\n",
    "def johnson(n):\n",
    "    return [randint(0, 1) * 2 - 1 for _ in range(n + 1)]\n",
    "\n",
    "# LP rounding scheme\n",
    "def lp_rounding(CNF, ys):\n",
    "    return [choices([1, -1], cum_weights=[ys[i], 1]) for i in range(len(ys))]\n",
    "\n",
    "# solve the LP, do both rounding schemes, output the better result\n",
    "def do_lp_algo(CNF, k, n, m):\n",
    "    ys, zs = solveLP(CNF, k, n, m)\n",
    "\n",
    "    ass1 = johnson(n)\n",
    "    ass2 = lp_rounding(CNF, ys)\n",
    "    print(ass1)\n",
    "\n",
    "    count1 = count_sat(CNF, ass1)\n",
    "    count2 = count_sat(CNF, ass2)\n",
    "\n",
    "    return max(count1, count2)"
   ]
  },
  {
   "cell_type": "code",
   "execution_count": 328,
   "metadata": {},
   "outputs": [
    {
     "output_type": "stream",
     "name": "stdout",
     "text": [
      "[-1, 1, -1, -1]\n"
     ]
    },
    {
     "output_type": "execute_result",
     "data": {
      "text/plain": [
       "47"
      ]
     },
     "metadata": {},
     "execution_count": 328
    }
   ],
   "source": [
    "k = 3\n",
    "n = 3\n",
    "m = 50\n",
    "ex = F(k, n, m)\n",
    "do_lp_algo(ex, k, n, m)"
   ]
  },
  {
   "source": [
    "Now, we'll do the ILP rounding. This is essentially the same as the LP rounding model, except now we use CP-SAT rather than Glop"
   ],
   "cell_type": "markdown",
   "metadata": {}
  },
  {
   "cell_type": "code",
   "execution_count": 329,
   "metadata": {},
   "outputs": [],
   "source": [
    "# ILP version\n",
    "from ortools.sat.python import cp_model\n",
    "\n",
    "def solveILP(CNF, k, n, m):\n",
    "    model = cp_model.CpModel()\n",
    "    zs = [model.NewIntVar(0, 1, f'z_{j}') for j in range(m)] # variable for if the j-th clause is satisfied\n",
    "    ys = [model.NewIntVar(0, 1, f'y_{i}') for i in range(n+1)] # variable for if the i-th clause is set to True\n",
    "    # add constraints\n",
    "    for j in range(m):\n",
    "        clause = CNF[j]\n",
    "        # count number of negatives\n",
    "        # neg_count = sum(1 for lit in clause if lit < 0)\n",
    "        # constraint = solver.Constraint(-neg_count, solver.infinity()) # must be larger than z_j\n",
    "        # constraint.SetCoefficient(zs[j], -1)\n",
    "        lhs = 0\n",
    "        for lit in clause:\n",
    "            var = abs(lit)\n",
    "            sign = lit / var\n",
    "            if sign == 1:\n",
    "                lhs += ys[var]\n",
    "            else:\n",
    "                lhs += 1 - ys[var]\n",
    "        model.Add(lhs >= zs[j])\n",
    "    # maximize number of satisfied clauses\n",
    "    model.Maximize(sum(zs))\n",
    "\n",
    "    solver = cp_model.CpSolver()\n",
    "    solver.Solve(model)\n",
    "    def get_sols(xs):\n",
    "        return list(map(lambda x : solver.Value(x), xs))\n",
    "    return (get_sols(ys), get_sols(zs))\n",
    "    return solver"
   ]
  },
  {
   "cell_type": "code",
   "execution_count": 330,
   "metadata": {},
   "outputs": [],
   "source": [
    "ys, zs = solveILP(ex, k, n, m)"
   ]
  },
  {
   "cell_type": "code",
   "execution_count": 331,
   "metadata": {},
   "outputs": [
    {
     "output_type": "execute_result",
     "data": {
      "text/plain": [
       "[0, 1, 0, 1]"
      ]
     },
     "metadata": {},
     "execution_count": 331
    }
   ],
   "source": [
    "ys"
   ]
  },
  {
   "cell_type": "code",
   "execution_count": 332,
   "metadata": {},
   "outputs": [
    {
     "output_type": "execute_result",
     "data": {
      "text/plain": [
       "[1,\n",
       " 1,\n",
       " 1,\n",
       " 1,\n",
       " 1,\n",
       " 1,\n",
       " 1,\n",
       " 1,\n",
       " 1,\n",
       " 1,\n",
       " 1,\n",
       " 1,\n",
       " 1,\n",
       " 1,\n",
       " 1,\n",
       " 1,\n",
       " 1,\n",
       " 1,\n",
       " 1,\n",
       " 1,\n",
       " 1,\n",
       " 1,\n",
       " 1,\n",
       " 1,\n",
       " 1,\n",
       " 1,\n",
       " 1,\n",
       " 1,\n",
       " 1,\n",
       " 1,\n",
       " 1,\n",
       " 1,\n",
       " 0,\n",
       " 1,\n",
       " 1,\n",
       " 1,\n",
       " 1,\n",
       " 1,\n",
       " 1,\n",
       " 1,\n",
       " 1,\n",
       " 1,\n",
       " 1,\n",
       " 1,\n",
       " 1,\n",
       " 1,\n",
       " 1,\n",
       " 1,\n",
       " 1,\n",
       " 1]"
      ]
     },
     "metadata": {},
     "execution_count": 332
    }
   ],
   "source": [
    "zs"
   ]
  },
  {
   "cell_type": "code",
   "execution_count": 333,
   "metadata": {},
   "outputs": [
    {
     "output_type": "execute_result",
     "data": {
      "text/plain": [
       "[[2, 1, -3],\n",
       " [2, 1, 3],\n",
       " [-2, -3, -1],\n",
       " [1, -3, -2],\n",
       " [1, 3, -2],\n",
       " [1, -2, 3],\n",
       " [-1, -2, 3],\n",
       " [3, 1, 2],\n",
       " [2, -1, 3],\n",
       " [-2, 3, 1],\n",
       " [1, -3, -2],\n",
       " [-2, 1, 3],\n",
       " [-1, 3, -2],\n",
       " [1, 2, 3],\n",
       " [-2, -1, -3],\n",
       " [3, 1, -2],\n",
       " [-2, 3, 1],\n",
       " [1, 2, -3],\n",
       " [1, -2, 3],\n",
       " [-1, 3, 2],\n",
       " [1, -2, -3],\n",
       " [3, 2, -1],\n",
       " [-2, -1, 3],\n",
       " [3, 2, 1],\n",
       " [-1, 3, 2],\n",
       " [1, -2, -3],\n",
       " [-2, 1, 3],\n",
       " [3, -1, -2],\n",
       " [3, 1, -2],\n",
       " [1, -2, 3],\n",
       " [3, -1, 2],\n",
       " [-2, 3, 1],\n",
       " [-1, 2, -3],\n",
       " [1, 2, 3],\n",
       " [-3, 1, 2],\n",
       " [2, -1, 3],\n",
       " [1, 3, 2],\n",
       " [3, 1, -2],\n",
       " [-2, -3, -1],\n",
       " [3, -1, -2],\n",
       " [3, -2, 1],\n",
       " [-3, -2, -1],\n",
       " [2, 3, 1],\n",
       " [-2, -3, 1],\n",
       " [3, -2, 1],\n",
       " [1, -2, -3],\n",
       " [-2, 3, 1],\n",
       " [2, 1, 3],\n",
       " [3, 2, -1],\n",
       " [2, 1, 3]]"
      ]
     },
     "metadata": {},
     "execution_count": 333
    }
   ],
   "source": [
    "ex"
   ]
  },
  {
   "cell_type": "code",
   "execution_count": null,
   "metadata": {},
   "outputs": [],
   "source": []
  }
 ]
}