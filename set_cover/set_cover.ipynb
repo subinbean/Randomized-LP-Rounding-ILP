{
 "metadata": {
  "language_info": {
   "codemirror_mode": {
    "name": "ipython",
    "version": 3
   },
   "file_extension": ".py",
   "mimetype": "text/x-python",
   "name": "python",
   "nbconvert_exporter": "python",
   "pygments_lexer": "ipython3",
   "version": "3.8.5-final"
  },
  "orig_nbformat": 2,
  "kernelspec": {
   "name": "python38564bita957f2a188ac49d5b9f984bc7d32f825",
   "display_name": "Python 3.8.5 64-bit",
   "language": "python"
  }
 },
 "nbformat": 4,
 "nbformat_minor": 2,
 "cells": [
  {
   "cell_type": "code",
   "execution_count": 1,
   "metadata": {
    "tags": []
   },
   "outputs": [
    {
     "output_type": "stream",
     "name": "stdout",
     "text": [
      "m is 4\nn is 10\n[10000, 1, 2, 3, 4, 5, 6, 6, 7, 8]\n[[1, 8, 4, 7, 9], [8, 6, 9, 1, 2], [1, 3, 2, 4, 9, 5, 6], [1, 3]]\n"
     ]
    }
   ],
   "source": [
    "from set_cover import SetCover\n",
    "solver = SetCover('test1.txt')"
   ]
  },
  {
   "cell_type": "code",
   "execution_count": 2,
   "metadata": {},
   "outputs": [],
   "source": [
    "# put timeouts \n",
    "# Optimal / Feasible "
   ]
  },
  {
   "cell_type": "code",
   "execution_count": 3,
   "metadata": {},
   "outputs": [
    {
     "output_type": "stream",
     "name": "stdout",
     "text": [
      "the LP Rounding scheme takes time 0.0010222739999790065 seconds\nthe optimal set cover weight is 13\n"
     ]
    }
   ],
   "source": [
    "solver.solveLP_Rounding()"
   ]
  },
  {
   "cell_type": "code",
   "execution_count": 4,
   "metadata": {},
   "outputs": [
    {
     "output_type": "stream",
     "name": "stdout",
     "text": [
      "hey1\nhey2\nhey\n"
     ]
    }
   ],
   "source": [
    "solver.solveILP()"
   ]
  },
  {
   "cell_type": "code",
   "execution_count": null,
   "metadata": {},
   "outputs": [],
   "source": []
  }
 ]
}