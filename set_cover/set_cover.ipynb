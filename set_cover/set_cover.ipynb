{
 "metadata": {
  "language_info": {
   "codemirror_mode": {
    "name": "ipython",
    "version": 3
   },
   "file_extension": ".py",
   "mimetype": "text/x-python",
   "name": "python",
   "nbconvert_exporter": "python",
   "pygments_lexer": "ipython3",
   "version": "3.8.5-final"
  },
  "orig_nbformat": 2,
  "kernelspec": {
   "name": "python38564bita957f2a188ac49d5b9f984bc7d32f825",
   "display_name": "Python 3.8.5 64-bit",
   "language": "python"
  }
 },
 "nbformat": 4,
 "nbformat_minor": 2,
 "cells": [
  {
   "source": [
    "# Weighted Set Cover: Randomized LP Rounding Scheme vs ILP"
   ],
   "cell_type": "markdown",
   "metadata": {}
  },
  {
   "source": [
    "## Implementation\n",
    "Notice that all the implementation details are abstracted away in set_cover.py. Here, we are able to interact with the SetCover object imported from set_cover.py which has two convenient methods solveILP() and solveLP_Rounding() that we can interact with. Both take in a dataset that contains the set cover problem. The dataset should be of the format m (number of elements), n (number of sets), the cost of each set c(i) where i = 1...n, and for each element j = 1...m the number of sets that cover element j as well as the sets that cover j. Note that in our implementation, for ease, we often use 0-indexing for storage and switch to 1-indexing when interacting with the data. All of this is abstracted away however."
   ],
   "cell_type": "markdown",
   "metadata": {}
  },
  {
   "source": [
    "## Toy Problem \n",
    "We first test out our example with a toy example constructed with 4 elements and 10 sets. We first load the data and print the data as well to verify that it is loaded correctly. Then, we run our LP_Rounding scheme as well as our ILP"
   ],
   "cell_type": "markdown",
   "metadata": {}
  },
  {
   "cell_type": "code",
   "execution_count": 1,
   "metadata": {
    "tags": []
   },
   "outputs": [
    {
     "output_type": "stream",
     "name": "stdout",
     "text": [
      "m is 4\nn is 10\n[10000, 1, 2, 3, 4, 5, 6, 6, 7, 8]\n[[1, 8, 4, 7, 9], [8, 6, 9, 1, 2], [1, 3, 2, 4, 9, 5, 6], [1, 3]]\n"
     ]
    }
   ],
   "source": [
    "from set_cover import SetCover\n",
    "solver = SetCover('test1.txt', printData=True)"
   ]
  },
  {
   "cell_type": "code",
   "execution_count": 2,
   "metadata": {},
   "outputs": [
    {
     "output_type": "stream",
     "name": "stdout",
     "text": [
      "the LP Rounding scheme takes time 0.0016913410000114482 seconds\nthe optimal set cover weight is 6\n"
     ]
    }
   ],
   "source": [
    "solver.solveLP_Rounding()"
   ]
  },
  {
   "cell_type": "code",
   "execution_count": 3,
   "metadata": {},
   "outputs": [
    {
     "output_type": "stream",
     "name": "stdout",
     "text": [
      "the ILP scheme takes time 0.012448426000005952 seconds\nthe optimal set cover weight is 6\n"
     ]
    }
   ],
   "source": [
    "solver.solveILP()"
   ]
  },
  {
   "source": [
    "Notice here that the ILP solver indeed gets the correct optimal set cover weight of our toy problem which is 6. The LP Rounding scheme gets 6, which is surprisingly the same result. Notice also that the LP Rounding scheme is significantly faster than the ILP solver, which is expected."
   ],
   "cell_type": "markdown",
   "metadata": {}
  },
  {
   "cell_type": "code",
   "execution_count": 5,
   "metadata": {},
   "outputs": [
    {
     "output_type": "error",
     "ename": "NameError",
     "evalue": "name 'false' is not defined",
     "traceback": [
      "\u001b[0;31m---------------------------------------------------------------------------\u001b[0m",
      "\u001b[0;31mNameError\u001b[0m                                 Traceback (most recent call last)",
      "\u001b[0;32m<ipython-input-5-56db4a51950b>\u001b[0m in \u001b[0;36m<module>\u001b[0;34m\u001b[0m\n\u001b[0;32m----> 1\u001b[0;31m \u001b[0msolver\u001b[0m \u001b[0;34m=\u001b[0m \u001b[0mSetCover\u001b[0m\u001b[0;34m(\u001b[0m\u001b[0;34m'scp41.txt'\u001b[0m\u001b[0;34m,\u001b[0m \u001b[0mfalse\u001b[0m\u001b[0;34m)\u001b[0m\u001b[0;34m\u001b[0m\u001b[0;34m\u001b[0m\u001b[0m\n\u001b[0m\u001b[1;32m      2\u001b[0m \u001b[0msolver\u001b[0m\u001b[0;34m.\u001b[0m\u001b[0msolveLP_Rounding\u001b[0m\u001b[0;34m(\u001b[0m\u001b[0;34m)\u001b[0m\u001b[0;34m\u001b[0m\u001b[0;34m\u001b[0m\u001b[0m\n\u001b[1;32m      3\u001b[0m \u001b[0msolver\u001b[0m\u001b[0;34m.\u001b[0m\u001b[0msolveILP\u001b[0m\u001b[0;34m(\u001b[0m\u001b[0;34m)\u001b[0m\u001b[0;34m\u001b[0m\u001b[0;34m\u001b[0m\u001b[0m\n",
      "\u001b[0;31mNameError\u001b[0m: name 'false' is not defined"
     ]
    }
   ],
   "source": [
    "solver = SetCover('scp41.txt', False)\n",
    "solver.solveLP_Rounding()\n",
    "solver.solveILP()"
   ]
  },
  {
   "cell_type": "code",
   "execution_count": null,
   "metadata": {},
   "outputs": [],
   "source": []
  }
 ]
}